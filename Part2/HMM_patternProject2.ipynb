{
 "cells": [
  {
   "cell_type": "code",
   "execution_count": 1,
   "metadata": {},
   "outputs": [],
   "source": [
    "import pandas as pd\n",
    "import numpy as np"
   ]
  },
  {
   "cell_type": "code",
   "execution_count": 2,
   "metadata": {},
   "outputs": [],
   "source": [
    "def LoadData():\n",
    "    df=pd.read_csv(\"Project2Data - Copy.txt\",header=None)\n",
    "    df=df.rename(columns={0:\"States\",1:\"Answer\"})\n",
    "    return df"
   ]
  },
  {
   "cell_type": "code",
   "execution_count": 3,
   "metadata": {},
   "outputs": [],
   "source": [
    "df=LoadData()"
   ]
  },
  {
   "cell_type": "code",
   "execution_count": 116,
   "metadata": {},
   "outputs": [],
   "source": [
    "def CreateTransitionProbs(df):\n",
    "    trans_mat = {'sunny': [0, 0, 0], 'rainy': [0, 0, 0], 'foggy': [0, 0, 0]}\n",
    "    mapping = {'sunny': 0, 'rainy': 1, 'foggy':2}\n",
    "    first_flag = True\n",
    "\n",
    "        \n",
    "    for x in df[\"States\"]:\n",
    "        if first_flag:\n",
    "            prev_state = x\n",
    "            first_flag = False\n",
    "            continue\n",
    "        trans_mat[prev_state][mapping[x]] += 1\n",
    "        prev_state=x\n",
    "#     print(\"\",trans_mat)\n",
    "    for k,v in trans_mat.items():\n",
    "#         print(sum(trans_mat[k]))\n",
    "        trans_mat[k] = [round(x/sum(trans_mat[k]),3) for x in trans_mat[k]]\n",
    "        \n",
    "    print(\"\\tsunny\\trainy\\tfoggy\")\n",
    "    # for i in len(trans_mat):\n",
    "    #     print(trans_mat[i])\n",
    "    for i in trans_mat.items():\n",
    "        print(i[0],\"\\t\",i[1])\n",
    "    # trans_mat\n",
    "    trans_prob=np.array([trans_mat['sunny'],trans_mat['rainy'],trans_mat['foggy']])\n",
    "    return trans_prob"
   ]
  },
  {
   "cell_type": "code",
   "execution_count": 117,
   "metadata": {},
   "outputs": [
    {
     "name": "stdout",
     "output_type": "stream",
     "text": [
      "\tsunny\trainy\tfoggy\n",
      "sunny \t [0.795, 0.055, 0.15]\n",
      "rainy \t [0.196, 0.58, 0.224]\n",
      "foggy \t [0.207, 0.291, 0.502]\n"
     ]
    }
   ],
   "source": [
    "trans_prob=CreateTransitionProbs(df)"
   ]
  },
  {
   "cell_type": "code",
   "execution_count": 118,
   "metadata": {},
   "outputs": [
    {
     "data": {
      "text/plain": [
       "array([[0.795, 0.055, 0.15 ],\n",
       "       [0.196, 0.58 , 0.224],\n",
       "       [0.207, 0.291, 0.502]])"
      ]
     },
     "execution_count": 118,
     "metadata": {},
     "output_type": "execute_result"
    }
   ],
   "source": [
    "trans_prob"
   ]
  },
  {
   "cell_type": "code",
   "execution_count": 99,
   "metadata": {},
   "outputs": [],
   "source": [
    "def CreateEmitionProbs(df):\n",
    "    states = ['sunny', 'rainy', 'foggy']\n",
    "    observation= ['yes', 'no']\n",
    "    emission_mat = {'yes': [0, 0,0], 'no': [0,0,0]}\n",
    "#     print(emission_mat.keys())\n",
    "    mapping = {'sunny': 0, 'rainy': 1, 'foggy':2}\n",
    "#     map_yes_no={\"yes\":0,\"no\":1}\n",
    "    sum_yes=df[df['Answer']==\"yes\"][\"Answer\"].count()\n",
    "    sum_no=df[df[\"Answer\"]==\"no\"][\"Answer\"].count()\n",
    "#     print(sum_no)\n",
    "#     print(\"SUM yes :\\nSUm no: \",sum_yes,sum_no)\n",
    "     \n",
    "    temp=[]\n",
    "    for i in range(df.shape[0]):\n",
    "        emission_mat[df[\"Answer\"][i]][mapping[df[\"States\"][i]]]+=1\n",
    "    for i in range(len(states)):\n",
    "        s=emission_mat['yes'][i]+emission_mat['no'][i]\n",
    "        temp.append([round(emission_mat['yes'][i]/s,3),round(emission_mat['no'][i]/s,3)])\n",
    "#         print(temp)\n",
    "    emission_prob = np.array([temp[0], temp[1], temp[2]])\n",
    "    print(\"yes\\tno\")\n",
    "    print(emission_prob)\n",
    "    return emission_prob"
   ]
  },
  {
   "cell_type": "code",
   "execution_count": 102,
   "metadata": {},
   "outputs": [
    {
     "name": "stdout",
     "output_type": "stream",
     "text": [
      "yes\tno\n",
      "[[0.085 0.915]\n",
      " [0.812 0.188]\n",
      " [0.303 0.697]]\n"
     ]
    }
   ],
   "source": [
    "emission_prob=CreateEmitionProbs(df)"
   ]
  },
  {
   "cell_type": "code",
   "execution_count": 121,
   "metadata": {},
   "outputs": [],
   "source": [
    "pi = [1,0,0]\n",
    "def viterbi(obs_seq):\n",
    "        T = len(obs_seq)\n",
    "        N = trans_prob.shape[0]\n",
    "        delta = np.zeros((T, N))\n",
    "        psi = np.zeros((T, N))\n",
    "        delta[0] = pi*emission_prob[:,obs_seq[0]]\n",
    "        for t in range(1, T):\n",
    "            for j in range(N):\n",
    "                delta[t,j] = np.max(delta[t-1]*trans_prob[:,j]) * emission_prob[j, obs_seq[t]]\n",
    "                psi[t,j] = np.argmax(delta[t-1]*trans_prob[:,j])\n",
    "        print(delta)\n",
    "        # backtrack\n",
    "        states = np.zeros(T, dtype=np.int32)\n",
    "        states[T-1] = np.argmax(delta[T-1])\n",
    "        for t in range(T-2, -1, -1):\n",
    "            states[t] = psi[t+1, states[t+1]]\n",
    "        return states"
   ]
  },
  {
   "cell_type": "code",
   "execution_count": 55,
   "metadata": {},
   "outputs": [
    {
     "data": {
      "text/plain": [
       "['no', 'no', 'no', 'yes', 'no', 'no', 'yes', 'yes', 'no', 'yes']"
      ]
     },
     "execution_count": 55,
     "metadata": {},
     "output_type": "execute_result"
    }
   ],
   "source": [
    "['no', 'no', 'no', 'yes', 'no', 'no', 'yes', 'yes', 'no', 'yes']"
   ]
  },
  {
   "cell_type": "code",
   "execution_count": 122,
   "metadata": {},
   "outputs": [
    {
     "name": "stdout",
     "output_type": "stream",
     "text": [
      "[[8.50000000e-02 0.00000000e+00 0.00000000e+00]\n",
      " [6.18311250e-02 8.78900000e-04 8.88675000e-03]\n",
      " [4.49775061e-02 6.39333833e-04 6.46444412e-03]\n",
      " [3.03935497e-03 2.00869542e-03 2.04422765e-03]\n",
      " [2.05384412e-04 9.46015196e-04 3.10939291e-04]\n",
      " [1.57606132e-05 4.45535317e-04 6.42079434e-05]\n",
      " [7.42261838e-06 2.09829313e-04 3.02393730e-05]\n",
      " [3.49575635e-06 9.88212132e-05 1.42415351e-05]\n",
      " [1.64636141e-06 4.65408385e-05 6.70719338e-06]\n",
      " [8.34663399e-06 5.07481304e-06 7.26632804e-06]]\n",
      "[0 0 0 1 1 1 1 1 1 0]\n"
     ]
    }
   ],
   "source": [
    "print(viterbi([0,1,1,0,0,0,0,0,0,1]))"
   ]
  }
 ],
 "metadata": {
  "kernelspec": {
   "display_name": "Python 3",
   "language": "python",
   "name": "python3"
  },
  "language_info": {
   "codemirror_mode": {
    "name": "ipython",
    "version": 3
   },
   "file_extension": ".py",
   "mimetype": "text/x-python",
   "name": "python",
   "nbconvert_exporter": "python",
   "pygments_lexer": "ipython3",
   "version": "3.7.0"
  }
 },
 "nbformat": 4,
 "nbformat_minor": 2
}
